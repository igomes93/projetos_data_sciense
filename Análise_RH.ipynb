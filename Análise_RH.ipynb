{
  "nbformat": 4,
  "nbformat_minor": 0,
  "metadata": {
    "colab": {
      "name": "Análise_RH.ipynb",
      "provenance": [],
      "collapsed_sections": [],
      "authorship_tag": "ABX9TyNl29KNmFDg4OG5BRAK64Jg",
      "include_colab_link": true
    },
    "kernelspec": {
      "name": "python3",
      "display_name": "Python 3"
    },
    "language_info": {
      "name": "python"
    }
  },
  "cells": [
    {
      "cell_type": "markdown",
      "metadata": {
        "id": "view-in-github",
        "colab_type": "text"
      },
      "source": [
        "<a href=\"https://colab.research.google.com/github/igomes93/projetos_data_sciense/blob/master/An%C3%A1lise_RH.ipynb\" target=\"_parent\"><img src=\"https://colab.research.google.com/assets/colab-badge.svg\" alt=\"Open In Colab\"/></a>"
      ]
    },
    {
      "cell_type": "markdown",
      "metadata": {
        "id": "yYK5tdZ-uOVE"
      },
      "source": [
        "**Definição do Problema** \n",
        "\n",
        "Definição do Problema\n",
        "A empresa ZuZa Inc coletou dados do ano anterior com diversos atributos de funcionários de todos os setores. O objetivo é estudar a relação desses atributos e o impacto na promoção dos funcionários. Esse trabalho de análise pode ser usado mais tarde para construir modelos de Machine Learning para prever se um colaborador será ou não promovido.\n",
        "\n",
        "Essas são as perguntas que devem ser respondidas:\n",
        "\n",
        "Pergunta 1 - Qual a Correlação Entre os Atributos dos Funcionários?\n",
        "\n",
        "Pergunta 2 - Qual o Tempo de Serviço da Maioria dos Funcionários?\n",
        "\n",
        "Pergunta 3 - Qual Avaliação do Ano Anterior Foi Mais Comum?\n",
        "\n",
        "Pergunta 4 - Qual a Distribuição das Idades dos Funcionários?\n",
        "\n",
        "Pergunta 5 - Qual o Número de Treinamentos Mais Frequente?\n",
        "\n",
        "Pergunta 6 - Qual a Proporção dos Funcionários Por Canal de Recrutamento?\n",
        "\n",
        "Pergunta 7 - Qual a Relação Entre a Promoção e a Avaliação do Ano Anterior?\n",
        "\n",
        "\n"
      ]
    },
    {
      "cell_type": "markdown",
      "metadata": {
        "id": "W2lV-AT8wNMR"
      },
      "source": [
        "## **Carregando e instalando pacotes**"
      ]
    },
    {
      "cell_type": "code",
      "metadata": {
        "colab": {
          "base_uri": "https://localhost:8080/"
        },
        "id": "ImaMtOnnwKUU",
        "outputId": "332cc313-0af7-4dee-b3d8-4ffc4ea2c562"
      },
      "source": [
        "#versão do python usada no projeto\n",
        "from platform import python_version\n",
        "print('Versão da Linguagem Python Usada Neste Jupyter Notebook:', python_version())"
      ],
      "execution_count": 1,
      "outputs": [
        {
          "output_type": "stream",
          "text": [
            "Versão da Linguagem Python Usada Neste Jupyter Notebook: 3.7.10\n"
          ],
          "name": "stdout"
        }
      ]
    },
    {
      "cell_type": "code",
      "metadata": {
        "id": "ow-1zNtYujjS"
      },
      "source": [
        "#importando pacotes\n",
        "import pandas as pd\n",
        "import numpy as np\n",
        "import matplotlib.pyplot as plt\n",
        "import matplotlib\n",
        "import seaborn as sns\n"
      ],
      "execution_count": 2,
      "outputs": []
    },
    {
      "cell_type": "markdown",
      "metadata": {
        "id": "F8VIR4OIx8gp"
      },
      "source": [
        "**Carregando os dados**"
      ]
    },
    {
      "cell_type": "code",
      "metadata": {
        "id": "mJq-wrVDugdp"
      },
      "source": [
        "dadosrh=pd.read_csv('dadosRH.csv')"
      ],
      "execution_count": 3,
      "outputs": []
    },
    {
      "cell_type": "code",
      "metadata": {
        "colab": {
          "base_uri": "https://localhost:8080/",
          "height": 249
        },
        "id": "Yp3EjoNAx6su",
        "outputId": "a8b38d1a-a745-454f-fa3b-41482054c7c3"
      },
      "source": [
        "dadosrh.head()"
      ],
      "execution_count": 4,
      "outputs": [
        {
          "output_type": "execute_result",
          "data": {
            "text/html": [
              "<div>\n",
              "<style scoped>\n",
              "    .dataframe tbody tr th:only-of-type {\n",
              "        vertical-align: middle;\n",
              "    }\n",
              "\n",
              "    .dataframe tbody tr th {\n",
              "        vertical-align: top;\n",
              "    }\n",
              "\n",
              "    .dataframe thead th {\n",
              "        text-align: right;\n",
              "    }\n",
              "</style>\n",
              "<table border=\"1\" class=\"dataframe\">\n",
              "  <thead>\n",
              "    <tr style=\"text-align: right;\">\n",
              "      <th></th>\n",
              "      <th>id_funcionario</th>\n",
              "      <th>departmento</th>\n",
              "      <th>regiao</th>\n",
              "      <th>educacao</th>\n",
              "      <th>genero</th>\n",
              "      <th>canal_recrutamento</th>\n",
              "      <th>numero_treinamentos</th>\n",
              "      <th>idade</th>\n",
              "      <th>aval_ano_anterior</th>\n",
              "      <th>tempo_servico</th>\n",
              "      <th>promovido</th>\n",
              "    </tr>\n",
              "  </thead>\n",
              "  <tbody>\n",
              "    <tr>\n",
              "      <th>0</th>\n",
              "      <td>65438</td>\n",
              "      <td>Marketing</td>\n",
              "      <td>Sudeste</td>\n",
              "      <td>Mestrado ou Doutorado</td>\n",
              "      <td>F</td>\n",
              "      <td>Outsourcing</td>\n",
              "      <td>1</td>\n",
              "      <td>35</td>\n",
              "      <td>5.0</td>\n",
              "      <td>8</td>\n",
              "      <td>0</td>\n",
              "    </tr>\n",
              "    <tr>\n",
              "      <th>1</th>\n",
              "      <td>65141</td>\n",
              "      <td>Logistica</td>\n",
              "      <td>Nordeste</td>\n",
              "      <td>Superior</td>\n",
              "      <td>M</td>\n",
              "      <td>Outro</td>\n",
              "      <td>1</td>\n",
              "      <td>30</td>\n",
              "      <td>5.0</td>\n",
              "      <td>4</td>\n",
              "      <td>0</td>\n",
              "    </tr>\n",
              "    <tr>\n",
              "      <th>2</th>\n",
              "      <td>7513</td>\n",
              "      <td>Marketing</td>\n",
              "      <td>Sudeste</td>\n",
              "      <td>Superior</td>\n",
              "      <td>M</td>\n",
              "      <td>Outsourcing</td>\n",
              "      <td>1</td>\n",
              "      <td>34</td>\n",
              "      <td>3.0</td>\n",
              "      <td>7</td>\n",
              "      <td>0</td>\n",
              "    </tr>\n",
              "    <tr>\n",
              "      <th>3</th>\n",
              "      <td>2542</td>\n",
              "      <td>Marketing</td>\n",
              "      <td>Norte</td>\n",
              "      <td>Superior</td>\n",
              "      <td>M</td>\n",
              "      <td>Outro</td>\n",
              "      <td>2</td>\n",
              "      <td>39</td>\n",
              "      <td>1.0</td>\n",
              "      <td>10</td>\n",
              "      <td>0</td>\n",
              "    </tr>\n",
              "    <tr>\n",
              "      <th>4</th>\n",
              "      <td>48945</td>\n",
              "      <td>Tecnologia</td>\n",
              "      <td>Nordeste</td>\n",
              "      <td>Superior</td>\n",
              "      <td>M</td>\n",
              "      <td>Outro</td>\n",
              "      <td>1</td>\n",
              "      <td>45</td>\n",
              "      <td>3.0</td>\n",
              "      <td>2</td>\n",
              "      <td>0</td>\n",
              "    </tr>\n",
              "  </tbody>\n",
              "</table>\n",
              "</div>"
            ],
            "text/plain": [
              "   id_funcionario departmento  ... tempo_servico promovido\n",
              "0           65438   Marketing  ...             8         0\n",
              "1           65141   Logistica  ...             4         0\n",
              "2            7513   Marketing  ...             7         0\n",
              "3            2542   Marketing  ...            10         0\n",
              "4           48945  Tecnologia  ...             2         0\n",
              "\n",
              "[5 rows x 11 columns]"
            ]
          },
          "metadata": {
            "tags": []
          },
          "execution_count": 4
        }
      ]
    },
    {
      "cell_type": "code",
      "metadata": {
        "colab": {
          "base_uri": "https://localhost:8080/"
        },
        "id": "qwkEn_FWygBA",
        "outputId": "e7ffc1da-1f3c-4dff-9e83-3b6954d6153c"
      },
      "source": [
        "dadosrh.shape # informa (quantidade de linhas,quantidade de colunas)"
      ],
      "execution_count": 5,
      "outputs": [
        {
          "output_type": "execute_result",
          "data": {
            "text/plain": [
              "(54808, 11)"
            ]
          },
          "metadata": {
            "tags": []
          },
          "execution_count": 5
        }
      ]
    },
    {
      "cell_type": "markdown",
      "metadata": {
        "id": "HyRW8p4BzWq4"
      },
      "source": [
        "**Análise exploratória,Limpeza e tranformação dos dados**\n",
        "\n",
        "manipulando os dados e corrigindo problemas\n",
        "\n"
      ]
    },
    {
      "cell_type": "code",
      "metadata": {
        "colab": {
          "base_uri": "https://localhost:8080/"
        },
        "id": "l88G9Uvxy3ZC",
        "outputId": "94e6fcfd-bf12-425f-e776-26ed51261ddc"
      },
      "source": [
        "dadosrh.isnull().sum() #verificando os valores que estão nulos (Ausentes) eftuando a soma do total de registros ausentes"
      ],
      "execution_count": 6,
      "outputs": [
        {
          "output_type": "execute_result",
          "data": {
            "text/plain": [
              "id_funcionario            0\n",
              "departmento               0\n",
              "regiao                    0\n",
              "educacao               2409\n",
              "genero                    0\n",
              "canal_recrutamento        0\n",
              "numero_treinamentos       0\n",
              "idade                     0\n",
              "aval_ano_anterior      4124\n",
              "tempo_servico             0\n",
              "promovido                 0\n",
              "dtype: int64"
            ]
          },
          "metadata": {
            "tags": []
          },
          "execution_count": 6
        }
      ]
    },
    {
      "cell_type": "code",
      "metadata": {
        "colab": {
          "base_uri": "https://localhost:8080/",
          "height": 236
        },
        "id": "LPf2cEIm0Qnm",
        "outputId": "aaaa7dd0-dbbf-4c06-89cb-a8027589c2ad"
      },
      "source": [
        "dadosrh.groupby(['educacao']).count() #Agrupando as informações da coluna educação e contando os valores-o groupby não considera valores ausentes"
      ],
      "execution_count": 7,
      "outputs": [
        {
          "output_type": "execute_result",
          "data": {
            "text/html": [
              "<div>\n",
              "<style scoped>\n",
              "    .dataframe tbody tr th:only-of-type {\n",
              "        vertical-align: middle;\n",
              "    }\n",
              "\n",
              "    .dataframe tbody tr th {\n",
              "        vertical-align: top;\n",
              "    }\n",
              "\n",
              "    .dataframe thead th {\n",
              "        text-align: right;\n",
              "    }\n",
              "</style>\n",
              "<table border=\"1\" class=\"dataframe\">\n",
              "  <thead>\n",
              "    <tr style=\"text-align: right;\">\n",
              "      <th></th>\n",
              "      <th>id_funcionario</th>\n",
              "      <th>departmento</th>\n",
              "      <th>regiao</th>\n",
              "      <th>genero</th>\n",
              "      <th>canal_recrutamento</th>\n",
              "      <th>numero_treinamentos</th>\n",
              "      <th>idade</th>\n",
              "      <th>aval_ano_anterior</th>\n",
              "      <th>tempo_servico</th>\n",
              "      <th>promovido</th>\n",
              "    </tr>\n",
              "    <tr>\n",
              "      <th>educacao</th>\n",
              "      <th></th>\n",
              "      <th></th>\n",
              "      <th></th>\n",
              "      <th></th>\n",
              "      <th></th>\n",
              "      <th></th>\n",
              "      <th></th>\n",
              "      <th></th>\n",
              "      <th></th>\n",
              "      <th></th>\n",
              "    </tr>\n",
              "  </thead>\n",
              "  <tbody>\n",
              "    <tr>\n",
              "      <th>Ensino Medio</th>\n",
              "      <td>805</td>\n",
              "      <td>805</td>\n",
              "      <td>805</td>\n",
              "      <td>805</td>\n",
              "      <td>805</td>\n",
              "      <td>805</td>\n",
              "      <td>805</td>\n",
              "      <td>458</td>\n",
              "      <td>805</td>\n",
              "      <td>805</td>\n",
              "    </tr>\n",
              "    <tr>\n",
              "      <th>Mestrado ou Doutorado</th>\n",
              "      <td>14925</td>\n",
              "      <td>14925</td>\n",
              "      <td>14925</td>\n",
              "      <td>14925</td>\n",
              "      <td>14925</td>\n",
              "      <td>14925</td>\n",
              "      <td>14925</td>\n",
              "      <td>14798</td>\n",
              "      <td>14925</td>\n",
              "      <td>14925</td>\n",
              "    </tr>\n",
              "    <tr>\n",
              "      <th>Superior</th>\n",
              "      <td>36669</td>\n",
              "      <td>36669</td>\n",
              "      <td>36669</td>\n",
              "      <td>36669</td>\n",
              "      <td>36669</td>\n",
              "      <td>36669</td>\n",
              "      <td>36669</td>\n",
              "      <td>33404</td>\n",
              "      <td>36669</td>\n",
              "      <td>36669</td>\n",
              "    </tr>\n",
              "  </tbody>\n",
              "</table>\n",
              "</div>"
            ],
            "text/plain": [
              "                       id_funcionario  departmento  ...  tempo_servico  promovido\n",
              "educacao                                            ...                          \n",
              "Ensino Medio                      805          805  ...            805        805\n",
              "Mestrado ou Doutorado           14925        14925  ...          14925      14925\n",
              "Superior                        36669        36669  ...          36669      36669\n",
              "\n",
              "[3 rows x 10 columns]"
            ]
          },
          "metadata": {
            "tags": []
          },
          "execution_count": 7
        }
      ]
    },
    {
      "cell_type": "code",
      "metadata": {
        "colab": {
          "base_uri": "https://localhost:8080/",
          "height": 350
        },
        "id": "LS3o0hIK1T0q",
        "outputId": "ab31458f-babc-403e-e295-ea1fc3bcdc20"
      },
      "source": [
        "sns.countplot(dadosrh['educacao'])"
      ],
      "execution_count": 8,
      "outputs": [
        {
          "output_type": "stream",
          "text": [
            "/usr/local/lib/python3.7/dist-packages/seaborn/_decorators.py:43: FutureWarning: Pass the following variable as a keyword arg: x. From version 0.12, the only valid positional argument will be `data`, and passing other arguments without an explicit keyword will result in an error or misinterpretation.\n",
            "  FutureWarning\n"
          ],
          "name": "stderr"
        },
        {
          "output_type": "execute_result",
          "data": {
            "text/plain": [
              "<matplotlib.axes._subplots.AxesSubplot at 0x7fce42a74150>"
            ]
          },
          "metadata": {
            "tags": []
          },
          "execution_count": 8
        },
        {
          "output_type": "display_data",
          "data": {
            "image/png": "[encoded data removed]",
            "text/plain": [
              "<Figure size 432x288 with 1 Axes>"
            ]
          },
          "metadata": {
            "tags": [],
            "needs_background": "light"
          }
        }
      ]
    },
    {
      "cell_type": "code",
      "metadata": {
        "colab": {
          "base_uri": "https://localhost:8080/",
          "height": 245
        },
        "id": "HkgHqK081rXj",
        "outputId": "5d09e892-bcf2-48de-fc0e-9fdb38d2a155"
      },
      "source": [
        "dadosrh.groupby(['aval_ano_anterior']).count() # estamos agora agrupando os dados e efetuando a contagemde outra coluna que apresentou dados ausentes (avaliação do ano anterior)"
      ],
      "execution_count": 9,
      "outputs": [
        {
          "output_type": "execute_result",
          "data": {
            "text/html": [
              "<div>\n",
              "<style scoped>\n",
              "    .dataframe tbody tr th:only-of-type {\n",
              "        vertical-align: middle;\n",
              "    }\n",
              "\n",
              "    .dataframe tbody tr th {\n",
              "        vertical-align: top;\n",
              "    }\n",
              "\n",
              "    .dataframe thead th {\n",
              "        text-align: right;\n",
              "    }\n",
              "</style>\n",
              "<table border=\"1\" class=\"dataframe\">\n",
              "  <thead>\n",
              "    <tr style=\"text-align: right;\">\n",
              "      <th></th>\n",
              "      <th>id_funcionario</th>\n",
              "      <th>departmento</th>\n",
              "      <th>regiao</th>\n",
              "      <th>educacao</th>\n",
              "      <th>genero</th>\n",
              "      <th>canal_recrutamento</th>\n",
              "      <th>numero_treinamentos</th>\n",
              "      <th>idade</th>\n",
              "      <th>tempo_servico</th>\n",
              "      <th>promovido</th>\n",
              "    </tr>\n",
              "    <tr>\n",
              "      <th>aval_ano_anterior</th>\n",
              "      <th></th>\n",
              "      <th></th>\n",
              "      <th></th>\n",
              "      <th></th>\n",
              "      <th></th>\n",
              "      <th></th>\n",
              "      <th></th>\n",
              "      <th></th>\n",
              "      <th></th>\n",
              "      <th></th>\n",
              "    </tr>\n",
              "  </thead>\n",
              "  <tbody>\n",
              "    <tr>\n",
              "      <th>1.0</th>\n",
              "      <td>6223</td>\n",
              "      <td>6223</td>\n",
              "      <td>6223</td>\n",
              "      <td>5887</td>\n",
              "      <td>6223</td>\n",
              "      <td>6223</td>\n",
              "      <td>6223</td>\n",
              "      <td>6223</td>\n",
              "      <td>6223</td>\n",
              "      <td>6223</td>\n",
              "    </tr>\n",
              "    <tr>\n",
              "      <th>2.0</th>\n",
              "      <td>4225</td>\n",
              "      <td>4225</td>\n",
              "      <td>4225</td>\n",
              "      <td>4035</td>\n",
              "      <td>4225</td>\n",
              "      <td>4225</td>\n",
              "      <td>4225</td>\n",
              "      <td>4225</td>\n",
              "      <td>4225</td>\n",
              "      <td>4225</td>\n",
              "    </tr>\n",
              "    <tr>\n",
              "      <th>3.0</th>\n",
              "      <td>18618</td>\n",
              "      <td>18618</td>\n",
              "      <td>18618</td>\n",
              "      <td>17867</td>\n",
              "      <td>18618</td>\n",
              "      <td>18618</td>\n",
              "      <td>18618</td>\n",
              "      <td>18618</td>\n",
              "      <td>18618</td>\n",
              "      <td>18618</td>\n",
              "    </tr>\n",
              "    <tr>\n",
              "      <th>4.0</th>\n",
              "      <td>9877</td>\n",
              "      <td>9877</td>\n",
              "      <td>9877</td>\n",
              "      <td>9509</td>\n",
              "      <td>9877</td>\n",
              "      <td>9877</td>\n",
              "      <td>9877</td>\n",
              "      <td>9877</td>\n",
              "      <td>9877</td>\n",
              "      <td>9877</td>\n",
              "    </tr>\n",
              "    <tr>\n",
              "      <th>5.0</th>\n",
              "      <td>11741</td>\n",
              "      <td>11741</td>\n",
              "      <td>11741</td>\n",
              "      <td>11362</td>\n",
              "      <td>11741</td>\n",
              "      <td>11741</td>\n",
              "      <td>11741</td>\n",
              "      <td>11741</td>\n",
              "      <td>11741</td>\n",
              "      <td>11741</td>\n",
              "    </tr>\n",
              "  </tbody>\n",
              "</table>\n",
              "</div>"
            ],
            "text/plain": [
              "                   id_funcionario  departmento  ...  tempo_servico  promovido\n",
              "aval_ano_anterior                               ...                          \n",
              "1.0                          6223         6223  ...           6223       6223\n",
              "2.0                          4225         4225  ...           4225       4225\n",
              "3.0                         18618        18618  ...          18618      18618\n",
              "4.0                          9877         9877  ...           9877       9877\n",
              "5.0                         11741        11741  ...          11741      11741\n",
              "\n",
              "[5 rows x 10 columns]"
            ]
          },
          "metadata": {
            "tags": []
          },
          "execution_count": 9
        }
      ]
    },
    {
      "cell_type": "code",
      "metadata": {
        "colab": {
          "base_uri": "https://localhost:8080/",
          "height": 350
        },
        "id": "DcReZfcQ2KbQ",
        "outputId": "0ce8e2a0-4630-47fa-e81d-e9cf4a27ba1b"
      },
      "source": [
        "sns.countplot(dadosrh['aval_ano_anterior'])"
      ],
      "execution_count": 10,
      "outputs": [
        {
          "output_type": "stream",
          "text": [
            "/usr/local/lib/python3.7/dist-packages/seaborn/_decorators.py:43: FutureWarning: Pass the following variable as a keyword arg: x. From version 0.12, the only valid positional argument will be `data`, and passing other arguments without an explicit keyword will result in an error or misinterpretation.\n",
            "  FutureWarning\n"
          ],
          "name": "stderr"
        },
        {
          "output_type": "execute_result",
          "data": {
            "text/plain": [
              "<matplotlib.axes._subplots.AxesSubplot at 0x7fce429ac550>"
            ]
          },
          "metadata": {
            "tags": []
          },
          "execution_count": 10
        },
        {
          "output_type": "display_data",
          "data": {
            "image/png": "[encoded data removed]",
            "text/plain": [
              "<Figure size 432x288 with 1 Axes>"
            ]
          },
          "metadata": {
            "tags": [],
            "needs_background": "light"
          }
        }
      ]
    },
    {
      "cell_type": "markdown",
      "metadata": {
        "id": "4DXyJdcm2jQp"
      },
      "source": [
        "Vamos aplicar a imputação e preencher os valores ausentes\n",
        "\n",
        "vamos usar a moda do valores\n"
      ]
    },
    {
      "cell_type": "code",
      "metadata": {
        "id": "4nh0FGzY24Vp"
      },
      "source": [
        "dadosrh['educacao'].fillna(dadosrh['educacao'].mode()[0],inplace=True)\n",
        "#dadosrh é a tabela munipulando a  coluna educacao.fillna é preencher os valores ausente, \n",
        "#calculando a moda desconsiderando os valores ausentes, retornando o maior valor e inplace é para gravar na coluna\n"
      ],
      "execution_count": 11,
      "outputs": []
    },
    {
      "cell_type": "code",
      "metadata": {
        "id": "CbDS3xv-4HNV"
      },
      "source": [
        "dadosrh['aval_ano_anterior'].fillna(dadosrh['aval_ano_anterior'].median(),inplace=True)\n",
        "#dadosrh é a tabela munipulando a  coluna aval_ano_anterior.fillna é preencher os valores ausente, \n",
        "#calculando a mediana desconsiderando os valores ausentes,e inplace é para gravar na coluna\n"
      ],
      "execution_count": 12,
      "outputs": []
    },
    {
      "cell_type": "code",
      "metadata": {
        "colab": {
          "base_uri": "https://localhost:8080/"
        },
        "id": "HOYXTkdc41wn",
        "outputId": "8d125ddd-f121-42a8-829e-dcbb1d97ea82"
      },
      "source": [
        "dadosrh.isnull().sum()#verificando se os dados foram preenchidos como anteriormente "
      ],
      "execution_count": 13,
      "outputs": [
        {
          "output_type": "execute_result",
          "data": {
            "text/plain": [
              "id_funcionario         0\n",
              "departmento            0\n",
              "regiao                 0\n",
              "educacao               0\n",
              "genero                 0\n",
              "canal_recrutamento     0\n",
              "numero_treinamentos    0\n",
              "idade                  0\n",
              "aval_ano_anterior      0\n",
              "tempo_servico          0\n",
              "promovido              0\n",
              "dtype: int64"
            ]
          },
          "metadata": {
            "tags": []
          },
          "execution_count": 13
        }
      ]
    },
    {
      "cell_type": "code",
      "metadata": {
        "colab": {
          "base_uri": "https://localhost:8080/"
        },
        "id": "ys-bLeeA5P4B",
        "outputId": "c130b9a8-f978-4b53-dc9c-92fd818557c7"
      },
      "source": [
        "dadosrh.shape"
      ],
      "execution_count": 14,
      "outputs": [
        {
          "output_type": "execute_result",
          "data": {
            "text/plain": [
              "(54808, 11)"
            ]
          },
          "metadata": {
            "tags": []
          },
          "execution_count": 14
        }
      ]
    },
    {
      "cell_type": "code",
      "metadata": {
        "colab": {
          "base_uri": "https://localhost:8080/",
          "height": 236
        },
        "id": "Ws3h4ov_5af8",
        "outputId": "02a05194-f311-4dc8-b0e5-fc15279b10bd"
      },
      "source": [
        "# agrupando os dados para verificarmos as mudanças de valores nas colunas\n",
        "dadosrh.groupby(['educacao']).count()"
      ],
      "execution_count": 15,
      "outputs": [
        {
          "output_type": "execute_result",
          "data": {
            "text/html": [
              "<div>\n",
              "<style scoped>\n",
              "    .dataframe tbody tr th:only-of-type {\n",
              "        vertical-align: middle;\n",
              "    }\n",
              "\n",
              "    .dataframe tbody tr th {\n",
              "        vertical-align: top;\n",
              "    }\n",
              "\n",
              "    .dataframe thead th {\n",
              "        text-align: right;\n",
              "    }\n",
              "</style>\n",
              "<table border=\"1\" class=\"dataframe\">\n",
              "  <thead>\n",
              "    <tr style=\"text-align: right;\">\n",
              "      <th></th>\n",
              "      <th>id_funcionario</th>\n",
              "      <th>departmento</th>\n",
              "      <th>regiao</th>\n",
              "      <th>genero</th>\n",
              "      <th>canal_recrutamento</th>\n",
              "      <th>numero_treinamentos</th>\n",
              "      <th>idade</th>\n",
              "      <th>aval_ano_anterior</th>\n",
              "      <th>tempo_servico</th>\n",
              "      <th>promovido</th>\n",
              "    </tr>\n",
              "    <tr>\n",
              "      <th>educacao</th>\n",
              "      <th></th>\n",
              "      <th></th>\n",
              "      <th></th>\n",
              "      <th></th>\n",
              "      <th></th>\n",
              "      <th></th>\n",
              "      <th></th>\n",
              "      <th></th>\n",
              "      <th></th>\n",
              "      <th></th>\n",
              "    </tr>\n",
              "  </thead>\n",
              "  <tbody>\n",
              "    <tr>\n",
              "      <th>Ensino Medio</th>\n",
              "      <td>805</td>\n",
              "      <td>805</td>\n",
              "      <td>805</td>\n",
              "      <td>805</td>\n",
              "      <td>805</td>\n",
              "      <td>805</td>\n",
              "      <td>805</td>\n",
              "      <td>805</td>\n",
              "      <td>805</td>\n",
              "      <td>805</td>\n",
              "    </tr>\n",
              "    <tr>\n",
              "      <th>Mestrado ou Doutorado</th>\n",
              "      <td>14925</td>\n",
              "      <td>14925</td>\n",
              "      <td>14925</td>\n",
              "      <td>14925</td>\n",
              "      <td>14925</td>\n",
              "      <td>14925</td>\n",
              "      <td>14925</td>\n",
              "      <td>14925</td>\n",
              "      <td>14925</td>\n",
              "      <td>14925</td>\n",
              "    </tr>\n",
              "    <tr>\n",
              "      <th>Superior</th>\n",
              "      <td>39078</td>\n",
              "      <td>39078</td>\n",
              "      <td>39078</td>\n",
              "      <td>39078</td>\n",
              "      <td>39078</td>\n",
              "      <td>39078</td>\n",
              "      <td>39078</td>\n",
              "      <td>39078</td>\n",
              "      <td>39078</td>\n",
              "      <td>39078</td>\n",
              "    </tr>\n",
              "  </tbody>\n",
              "</table>\n",
              "</div>"
            ],
            "text/plain": [
              "                       id_funcionario  departmento  ...  tempo_servico  promovido\n",
              "educacao                                            ...                          \n",
              "Ensino Medio                      805          805  ...            805        805\n",
              "Mestrado ou Doutorado           14925        14925  ...          14925      14925\n",
              "Superior                        39078        39078  ...          39078      39078\n",
              "\n",
              "[3 rows x 10 columns]"
            ]
          },
          "metadata": {
            "tags": []
          },
          "execution_count": 15
        }
      ]
    },
    {
      "cell_type": "code",
      "metadata": {
        "colab": {
          "base_uri": "https://localhost:8080/",
          "height": 245
        },
        "id": "4rPpKZX459BM",
        "outputId": "a93e7d5f-1c79-493e-d74f-f4f59dd1ef67"
      },
      "source": [
        "dadosrh.groupby(['aval_ano_anterior']).count()"
      ],
      "execution_count": 16,
      "outputs": [
        {
          "output_type": "execute_result",
          "data": {
            "text/html": [
              "<div>\n",
              "<style scoped>\n",
              "    .dataframe tbody tr th:only-of-type {\n",
              "        vertical-align: middle;\n",
              "    }\n",
              "\n",
              "    .dataframe tbody tr th {\n",
              "        vertical-align: top;\n",
              "    }\n",
              "\n",
              "    .dataframe thead th {\n",
              "        text-align: right;\n",
              "    }\n",
              "</style>\n",
              "<table border=\"1\" class=\"dataframe\">\n",
              "  <thead>\n",
              "    <tr style=\"text-align: right;\">\n",
              "      <th></th>\n",
              "      <th>id_funcionario</th>\n",
              "      <th>departmento</th>\n",
              "      <th>regiao</th>\n",
              "      <th>educacao</th>\n",
              "      <th>genero</th>\n",
              "      <th>canal_recrutamento</th>\n",
              "      <th>numero_treinamentos</th>\n",
              "      <th>idade</th>\n",
              "      <th>tempo_servico</th>\n",
              "      <th>promovido</th>\n",
              "    </tr>\n",
              "    <tr>\n",
              "      <th>aval_ano_anterior</th>\n",
              "      <th></th>\n",
              "      <th></th>\n",
              "      <th></th>\n",
              "      <th></th>\n",
              "      <th></th>\n",
              "      <th></th>\n",
              "      <th></th>\n",
              "      <th></th>\n",
              "      <th></th>\n",
              "      <th></th>\n",
              "    </tr>\n",
              "  </thead>\n",
              "  <tbody>\n",
              "    <tr>\n",
              "      <th>1.0</th>\n",
              "      <td>6223</td>\n",
              "      <td>6223</td>\n",
              "      <td>6223</td>\n",
              "      <td>6223</td>\n",
              "      <td>6223</td>\n",
              "      <td>6223</td>\n",
              "      <td>6223</td>\n",
              "      <td>6223</td>\n",
              "      <td>6223</td>\n",
              "      <td>6223</td>\n",
              "    </tr>\n",
              "    <tr>\n",
              "      <th>2.0</th>\n",
              "      <td>4225</td>\n",
              "      <td>4225</td>\n",
              "      <td>4225</td>\n",
              "      <td>4225</td>\n",
              "      <td>4225</td>\n",
              "      <td>4225</td>\n",
              "      <td>4225</td>\n",
              "      <td>4225</td>\n",
              "      <td>4225</td>\n",
              "      <td>4225</td>\n",
              "    </tr>\n",
              "    <tr>\n",
              "      <th>3.0</th>\n",
              "      <td>22742</td>\n",
              "      <td>22742</td>\n",
              "      <td>22742</td>\n",
              "      <td>22742</td>\n",
              "      <td>22742</td>\n",
              "      <td>22742</td>\n",
              "      <td>22742</td>\n",
              "      <td>22742</td>\n",
              "      <td>22742</td>\n",
              "      <td>22742</td>\n",
              "    </tr>\n",
              "    <tr>\n",
              "      <th>4.0</th>\n",
              "      <td>9877</td>\n",
              "      <td>9877</td>\n",
              "      <td>9877</td>\n",
              "      <td>9877</td>\n",
              "      <td>9877</td>\n",
              "      <td>9877</td>\n",
              "      <td>9877</td>\n",
              "      <td>9877</td>\n",
              "      <td>9877</td>\n",
              "      <td>9877</td>\n",
              "    </tr>\n",
              "    <tr>\n",
              "      <th>5.0</th>\n",
              "      <td>11741</td>\n",
              "      <td>11741</td>\n",
              "      <td>11741</td>\n",
              "      <td>11741</td>\n",
              "      <td>11741</td>\n",
              "      <td>11741</td>\n",
              "      <td>11741</td>\n",
              "      <td>11741</td>\n",
              "      <td>11741</td>\n",
              "      <td>11741</td>\n",
              "    </tr>\n",
              "  </tbody>\n",
              "</table>\n",
              "</div>"
            ],
            "text/plain": [
              "                   id_funcionario  departmento  ...  tempo_servico  promovido\n",
              "aval_ano_anterior                               ...                          \n",
              "1.0                          6223         6223  ...           6223       6223\n",
              "2.0                          4225         4225  ...           4225       4225\n",
              "3.0                         22742        22742  ...          22742      22742\n",
              "4.0                          9877         9877  ...           9877       9877\n",
              "5.0                         11741        11741  ...          11741      11741\n",
              "\n",
              "[5 rows x 10 columns]"
            ]
          },
          "metadata": {
            "tags": []
          },
          "execution_count": 16
        }
      ]
    },
    {
      "cell_type": "markdown",
      "metadata": {
        "id": "f4PefsTP6jst"
      },
      "source": [
        "Vamos verificar o balanceamento de classe na variável promovido"
      ]
    },
    {
      "cell_type": "code",
      "metadata": {
        "colab": {
          "base_uri": "https://localhost:8080/",
          "height": 156
        },
        "id": "tyoERXV46wIE",
        "outputId": "1d591add-9892-4ce9-dbab-95f43ac6e6eb"
      },
      "source": [
        "dadosrh.groupby(['promovido']).count() #podemos perceber que 0 são pessoas que não foram promovidas e 1 pessoa que foram promovidas"
      ],
      "execution_count": 17,
      "outputs": [
        {
          "output_type": "execute_result",
          "data": {
            "text/html": [
              "<div>\n",
              "<style scoped>\n",
              "    .dataframe tbody tr th:only-of-type {\n",
              "        vertical-align: middle;\n",
              "    }\n",
              "\n",
              "    .dataframe tbody tr th {\n",
              "        vertical-align: top;\n",
              "    }\n",
              "\n",
              "    .dataframe thead th {\n",
              "        text-align: right;\n",
              "    }\n",
              "</style>\n",
              "<table border=\"1\" class=\"dataframe\">\n",
              "  <thead>\n",
              "    <tr style=\"text-align: right;\">\n",
              "      <th></th>\n",
              "      <th>id_funcionario</th>\n",
              "      <th>departmento</th>\n",
              "      <th>regiao</th>\n",
              "      <th>educacao</th>\n",
              "      <th>genero</th>\n",
              "      <th>canal_recrutamento</th>\n",
              "      <th>numero_treinamentos</th>\n",
              "      <th>idade</th>\n",
              "      <th>aval_ano_anterior</th>\n",
              "      <th>tempo_servico</th>\n",
              "    </tr>\n",
              "    <tr>\n",
              "      <th>promovido</th>\n",
              "      <th></th>\n",
              "      <th></th>\n",
              "      <th></th>\n",
              "      <th></th>\n",
              "      <th></th>\n",
              "      <th></th>\n",
              "      <th></th>\n",
              "      <th></th>\n",
              "      <th></th>\n",
              "      <th></th>\n",
              "    </tr>\n",
              "  </thead>\n",
              "  <tbody>\n",
              "    <tr>\n",
              "      <th>0</th>\n",
              "      <td>50140</td>\n",
              "      <td>50140</td>\n",
              "      <td>50140</td>\n",
              "      <td>50140</td>\n",
              "      <td>50140</td>\n",
              "      <td>50140</td>\n",
              "      <td>50140</td>\n",
              "      <td>50140</td>\n",
              "      <td>50140</td>\n",
              "      <td>50140</td>\n",
              "    </tr>\n",
              "    <tr>\n",
              "      <th>1</th>\n",
              "      <td>4668</td>\n",
              "      <td>4668</td>\n",
              "      <td>4668</td>\n",
              "      <td>4668</td>\n",
              "      <td>4668</td>\n",
              "      <td>4668</td>\n",
              "      <td>4668</td>\n",
              "      <td>4668</td>\n",
              "      <td>4668</td>\n",
              "      <td>4668</td>\n",
              "    </tr>\n",
              "  </tbody>\n",
              "</table>\n",
              "</div>"
            ],
            "text/plain": [
              "           id_funcionario  departmento  ...  aval_ano_anterior  tempo_servico\n",
              "promovido                               ...                                  \n",
              "0                   50140        50140  ...              50140          50140\n",
              "1                    4668         4668  ...               4668           4668\n",
              "\n",
              "[2 rows x 10 columns]"
            ]
          },
          "metadata": {
            "tags": []
          },
          "execution_count": 17
        }
      ]
    },
    {
      "cell_type": "code",
      "metadata": {
        "colab": {
          "base_uri": "https://localhost:8080/",
          "height": 350
        },
        "id": "Qi-bGIBx6FNR",
        "outputId": "c80ebfb1-101e-42ba-aacd-99924e8fd217"
      },
      "source": [
        "sns.countplot(dadosrh['promovido'])"
      ],
      "execution_count": 18,
      "outputs": [
        {
          "output_type": "stream",
          "text": [
            "/usr/local/lib/python3.7/dist-packages/seaborn/_decorators.py:43: FutureWarning: Pass the following variable as a keyword arg: x. From version 0.12, the only valid positional argument will be `data`, and passing other arguments without an explicit keyword will result in an error or misinterpretation.\n",
            "  FutureWarning\n"
          ],
          "name": "stderr"
        },
        {
          "output_type": "execute_result",
          "data": {
            "text/plain": [
              "<matplotlib.axes._subplots.AxesSubplot at 0x7fce42499610>"
            ]
          },
          "metadata": {
            "tags": []
          },
          "execution_count": 18
        },
        {
          "output_type": "display_data",
          "data": {
            "image/png": "[encoded data removed]",
            "text/plain": [
              "<Figure size 432x288 with 1 Axes>"
            ]
          },
          "metadata": {
            "tags": [],
            "needs_background": "light"
          }
        }
      ]
    },
    {
      "cell_type": "code",
      "metadata": {
        "id": "KXqdBfCP-oN7"
      },
      "source": [
        "df_classe_majoritaria=dadosrh[dadosrh.promovido==0]\n",
        "df_classe_minoritaria=dadosrh[dadosrh.promovido==1]"
      ],
      "execution_count": 19,
      "outputs": []
    },
    {
      "cell_type": "code",
      "metadata": {
        "colab": {
          "base_uri": "https://localhost:8080/"
        },
        "id": "kKz0aL6U_I9u",
        "outputId": "34e9f66c-def5-46b4-bc07-7e18d2c11bf0"
      },
      "source": [
        "df_classe_majoritaria.shape #contagem de linhas doa não promovidos"
      ],
      "execution_count": 20,
      "outputs": [
        {
          "output_type": "execute_result",
          "data": {
            "text/plain": [
              "(50140, 11)"
            ]
          },
          "metadata": {
            "tags": []
          },
          "execution_count": 20
        }
      ]
    },
    {
      "cell_type": "code",
      "metadata": {
        "colab": {
          "base_uri": "https://localhost:8080/"
        },
        "id": "EPhBoRb1_PVV",
        "outputId": "f4fd0546-0c0e-4045-85b1-a0ae1b772c20"
      },
      "source": [
        "df_classe_minoritaria.shape #contagem de linhas dos promovidos"
      ],
      "execution_count": 21,
      "outputs": [
        {
          "output_type": "execute_result",
          "data": {
            "text/plain": [
              "(4668, 11)"
            ]
          },
          "metadata": {
            "tags": []
          },
          "execution_count": 21
        }
      ]
    },
    {
      "cell_type": "code",
      "metadata": {
        "id": "FpN9cJWo_xnq"
      },
      "source": [
        "#Upsample\n",
        "#vamos utilizar a tecnica de reamostragem aumentando a classe minoritaria\n",
        "from sklearn.utils import resample\n",
        "df_classe_minoritaria_upsampled = resample(df_classe_minoritaria, \n",
        "                                           replace = True,     \n",
        "                                           n_samples = 50140,   \n",
        "                                           random_state = 150) "
      ],
      "execution_count": 22,
      "outputs": []
    },
    {
      "cell_type": "code",
      "metadata": {
        "id": "MCgh8UrfBkQt"
      },
      "source": [
        "#vamos concatenar a classe majoritaria com a nova classe minoritaria\n",
        "\n",
        "dadosrh_balanceados=pd.concat([df_classe_majoritaria,df_classe_minoritaria_upsampled])"
      ],
      "execution_count": 23,
      "outputs": []
    },
    {
      "cell_type": "code",
      "metadata": {
        "colab": {
          "base_uri": "https://localhost:8080/"
        },
        "id": "8iBRQuCICGZQ",
        "outputId": "be1f85e5-b867-4b8d-fa79-4324b051f060"
      },
      "source": [
        "#vamos contar o valores de promovidos e não promovidos, depois da manipulação de dados acima\n",
        "dadosrh_balanceados.promovido.value_counts()"
      ],
      "execution_count": 24,
      "outputs": [
        {
          "output_type": "execute_result",
          "data": {
            "text/plain": [
              "1    50140\n",
              "0    50140\n",
              "Name: promovido, dtype: int64"
            ]
          },
          "metadata": {
            "tags": []
          },
          "execution_count": 24
        }
      ]
    },
    {
      "cell_type": "code",
      "metadata": {
        "colab": {
          "base_uri": "https://localhost:8080/"
        },
        "id": "Su7C4jBWCew0",
        "outputId": "ea324f6b-366c-4d2a-d912-3747789c31a3"
      },
      "source": [
        "dadosrh_balanceados.info() #variaveis no conjunto de dados"
      ],
      "execution_count": 25,
      "outputs": [
        {
          "output_type": "stream",
          "text": [
            "<class 'pandas.core.frame.DataFrame'>\n",
            "Int64Index: 100280 entries, 0 to 5869\n",
            "Data columns (total 11 columns):\n",
            " #   Column               Non-Null Count   Dtype  \n",
            "---  ------               --------------   -----  \n",
            " 0   id_funcionario       100280 non-null  int64  \n",
            " 1   departmento          100280 non-null  object \n",
            " 2   regiao               100280 non-null  object \n",
            " 3   educacao             100280 non-null  object \n",
            " 4   genero               100280 non-null  object \n",
            " 5   canal_recrutamento   100280 non-null  object \n",
            " 6   numero_treinamentos  100280 non-null  int64  \n",
            " 7   idade                100280 non-null  int64  \n",
            " 8   aval_ano_anterior    100280 non-null  float64\n",
            " 9   tempo_servico        100280 non-null  int64  \n",
            " 10  promovido            100280 non-null  int64  \n",
            "dtypes: float64(1), int64(5), object(5)\n",
            "memory usage: 9.2+ MB\n"
          ],
          "name": "stdout"
        }
      ]
    },
    {
      "cell_type": "markdown",
      "metadata": {
        "id": "sP5FFz5lCwJb"
      },
      "source": [
        ""
      ]
    },
    {
      "cell_type": "code",
      "metadata": {
        "colab": {
          "base_uri": "https://localhost:8080/",
          "height": 350
        },
        "id": "hoDIrb_6CvLY",
        "outputId": "7bfd6546-6e0c-4f5d-92da-25f17b17b871"
      },
      "source": [
        "sns.countplot(dadosrh_balanceados['promovido']) #percebemos que os dados se igualaram"
      ],
      "execution_count": 26,
      "outputs": [
        {
          "output_type": "stream",
          "text": [
            "/usr/local/lib/python3.7/dist-packages/seaborn/_decorators.py:43: FutureWarning: Pass the following variable as a keyword arg: x. From version 0.12, the only valid positional argument will be `data`, and passing other arguments without an explicit keyword will result in an error or misinterpretation.\n",
            "  FutureWarning\n"
          ],
          "name": "stderr"
        },
        {
          "output_type": "execute_result",
          "data": {
            "text/plain": [
              "<matplotlib.axes._subplots.AxesSubplot at 0x7fce4241ca50>"
            ]
          },
          "metadata": {
            "tags": []
          },
          "execution_count": 26
        },
        {
          "output_type": "display_data",
          "data": {
            "image/png": "[encoded data removed]",
            "text/plain": [
              "<Figure size 432x288 with 1 Axes>"
            ]
          },
          "metadata": {
            "tags": [],
            "needs_background": "light"
          }
        }
      ]
    },
    {
      "cell_type": "code",
      "metadata": {
        "id": "kCIqB_lrDEG1"
      },
      "source": [
        ""
      ],
      "execution_count": 26,
      "outputs": []
    },
    {
      "cell_type": "markdown",
      "metadata": {
        "id": "S8t_VMOBDNM6"
      },
      "source": [
        "os dados estão balanceados. salvando em disco"
      ]
    },
    {
      "cell_type": "code",
      "metadata": {
        "id": "O1SMl8HTDUgK"
      },
      "source": [
        "dadosrh_balanceados.to_csv('dadosRH_modificado.csv', encoding = 'utf-8', index = False)"
      ],
      "execution_count": 27,
      "outputs": []
    },
    {
      "cell_type": "markdown",
      "metadata": {
        "id": "C0qKFUOYD5S3"
      },
      "source": [
        "Agora vamos efetuar a análise de dados"
      ]
    },
    {
      "cell_type": "code",
      "metadata": {
        "id": "wWUG8m7nD85F"
      },
      "source": [
        "dataset=pd.read_csv('dadosRH_modificado.csv')"
      ],
      "execution_count": 28,
      "outputs": []
    },
    {
      "cell_type": "code",
      "metadata": {
        "colab": {
          "base_uri": "https://localhost:8080/",
          "height": 249
        },
        "id": "ko6gqerZEjbL",
        "outputId": "d9f4cbba-a18a-4cab-9c82-57456e4c1068"
      },
      "source": [
        "dataset.head()"
      ],
      "execution_count": 29,
      "outputs": [
        {
          "output_type": "execute_result",
          "data": {
            "text/html": [
              "<div>\n",
              "<style scoped>\n",
              "    .dataframe tbody tr th:only-of-type {\n",
              "        vertical-align: middle;\n",
              "    }\n",
              "\n",
              "    .dataframe tbody tr th {\n",
              "        vertical-align: top;\n",
              "    }\n",
              "\n",
              "    .dataframe thead th {\n",
              "        text-align: right;\n",
              "    }\n",
              "</style>\n",
              "<table border=\"1\" class=\"dataframe\">\n",
              "  <thead>\n",
              "    <tr style=\"text-align: right;\">\n",
              "      <th></th>\n",
              "      <th>id_funcionario</th>\n",
              "      <th>departmento</th>\n",
              "      <th>regiao</th>\n",
              "      <th>educacao</th>\n",
              "      <th>genero</th>\n",
              "      <th>canal_recrutamento</th>\n",
              "      <th>numero_treinamentos</th>\n",
              "      <th>idade</th>\n",
              "      <th>aval_ano_anterior</th>\n",
              "      <th>tempo_servico</th>\n",
              "      <th>promovido</th>\n",
              "    </tr>\n",
              "  </thead>\n",
              "  <tbody>\n",
              "    <tr>\n",
              "      <th>0</th>\n",
              "      <td>65438</td>\n",
              "      <td>Marketing</td>\n",
              "      <td>Sudeste</td>\n",
              "      <td>Mestrado ou Doutorado</td>\n",
              "      <td>F</td>\n",
              "      <td>Outsourcing</td>\n",
              "      <td>1</td>\n",
              "      <td>35</td>\n",
              "      <td>5.0</td>\n",
              "      <td>8</td>\n",
              "      <td>0</td>\n",
              "    </tr>\n",
              "    <tr>\n",
              "      <th>1</th>\n",
              "      <td>65141</td>\n",
              "      <td>Logistica</td>\n",
              "      <td>Nordeste</td>\n",
              "      <td>Superior</td>\n",
              "      <td>M</td>\n",
              "      <td>Outro</td>\n",
              "      <td>1</td>\n",
              "      <td>30</td>\n",
              "      <td>5.0</td>\n",
              "      <td>4</td>\n",
              "      <td>0</td>\n",
              "    </tr>\n",
              "    <tr>\n",
              "      <th>2</th>\n",
              "      <td>7513</td>\n",
              "      <td>Marketing</td>\n",
              "      <td>Sudeste</td>\n",
              "      <td>Superior</td>\n",
              "      <td>M</td>\n",
              "      <td>Outsourcing</td>\n",
              "      <td>1</td>\n",
              "      <td>34</td>\n",
              "      <td>3.0</td>\n",
              "      <td>7</td>\n",
              "      <td>0</td>\n",
              "    </tr>\n",
              "    <tr>\n",
              "      <th>3</th>\n",
              "      <td>2542</td>\n",
              "      <td>Marketing</td>\n",
              "      <td>Norte</td>\n",
              "      <td>Superior</td>\n",
              "      <td>M</td>\n",
              "      <td>Outro</td>\n",
              "      <td>2</td>\n",
              "      <td>39</td>\n",
              "      <td>1.0</td>\n",
              "      <td>10</td>\n",
              "      <td>0</td>\n",
              "    </tr>\n",
              "    <tr>\n",
              "      <th>4</th>\n",
              "      <td>48945</td>\n",
              "      <td>Tecnologia</td>\n",
              "      <td>Nordeste</td>\n",
              "      <td>Superior</td>\n",
              "      <td>M</td>\n",
              "      <td>Outro</td>\n",
              "      <td>1</td>\n",
              "      <td>45</td>\n",
              "      <td>3.0</td>\n",
              "      <td>2</td>\n",
              "      <td>0</td>\n",
              "    </tr>\n",
              "  </tbody>\n",
              "</table>\n",
              "</div>"
            ],
            "text/plain": [
              "   id_funcionario departmento  ... tempo_servico promovido\n",
              "0           65438   Marketing  ...             8         0\n",
              "1           65141   Logistica  ...             4         0\n",
              "2            7513   Marketing  ...             7         0\n",
              "3            2542   Marketing  ...            10         0\n",
              "4           48945  Tecnologia  ...             2         0\n",
              "\n",
              "[5 rows x 11 columns]"
            ]
          },
          "metadata": {
            "tags": []
          },
          "execution_count": 29
        }
      ]
    },
    {
      "cell_type": "code",
      "metadata": {
        "colab": {
          "base_uri": "https://localhost:8080/"
        },
        "id": "C1AMm29SEr_1",
        "outputId": "5897a6c9-5ad6-4853-8166-a659a1aad1e0"
      },
      "source": [
        "dataset.shape"
      ],
      "execution_count": 30,
      "outputs": [
        {
          "output_type": "execute_result",
          "data": {
            "text/plain": [
              "(100280, 11)"
            ]
          },
          "metadata": {
            "tags": []
          },
          "execution_count": 30
        }
      ]
    },
    {
      "cell_type": "markdown",
      "metadata": {
        "id": "5RRcS3riE-i8"
      },
      "source": [
        "Pergunta 1 - Qual a Correlação Entre os Atributos dos Funcionários?"
      ]
    },
    {
      "cell_type": "code",
      "metadata": {
        "colab": {
          "base_uri": "https://localhost:8080/",
          "height": 369
        },
        "id": "6qwqYoLkFCBm",
        "outputId": "2087b83b-c869-49b3-b25b-d803e87f9134"
      },
      "source": [
        "#como é uma correlação entre atributos podemos usar o heatmap que é um mapa de calor e ajuda a construir uma matriz de correlação\n",
        "import matplotlib.pyplot as plt\n",
        "import seaborn as sns\n",
        "corr=dataset.corr()#da liguagem python para correlação\n",
        "sns.heatmap(corr,cmap='YlOrRd',linewidths=0.1) #cmap é uma argumento para criar o mapa com determinada cor especifica\n",
        "plt.show()"
      ],
      "execution_count": 31,
      "outputs": [
        {
          "output_type": "display_data",
          "data": {
            "image/png": "[encoded data removed]",
            "text/plain": [
              "<Figure size 432x288 with 2 Axes>"
            ]
          },
          "metadata": {
            "tags": [],
            "needs_background": "light"
          }
        }
      ]
    },
    {
      "cell_type": "markdown",
      "metadata": {
        "id": "GYE0c57iHbEI"
      },
      "source": [
        "Pergunta 2 - Qual o Tempo de Serviço da Maioria dos Funcionários?"
      ]
    },
    {
      "cell_type": "code",
      "metadata": {
        "colab": {
          "base_uri": "https://localhost:8080/",
          "height": 357
        },
        "id": "GR-gAfwpHjq7",
        "outputId": "6adc079d-1d8a-4279-86ee-e7d366b2a6fe"
      },
      "source": [
        "#vamos avaliar a distribuição da variavel de tempo de serviço, por isso vamos usar um gráfico de distribuição\n",
        "import matplotlib.pyplot as plt\n",
        "import seaborn as sns\n",
        "sns.distplot(dataset['tempo_servico'],color='green') #usamos o distplot como gráfico de distribuição chamando a coluna a ser analisada no dataset\n",
        "plt.title('Distribuição do tempo de serviço pelos funcionários',fontsize=15) #atribuindo um titulo e tamanho da fonte no gráfico\n",
        "plt.xlabel('Avaliações',fontsize=15)#atribuindo um titula a variavel x \n",
        "plt.ylabel('Total')#atribuindo um titulo a variavel y\n",
        "plt.show()"
      ],
      "execution_count": 33,
      "outputs": [
        {
          "output_type": "stream",
          "text": [
            "/usr/local/lib/python3.7/dist-packages/seaborn/distributions.py:2557: FutureWarning: `distplot` is a deprecated function and will be removed in a future version. Please adapt your code to use either `displot` (a figure-level function with similar flexibility) or `histplot` (an axes-level function for histograms).\n",
            "  warnings.warn(msg, FutureWarning)\n"
          ],
          "name": "stderr"
        },
        {
          "output_type": "display_data",
          "data": {
            "image/png": "[encoded data removed]",
            "text/plain": [
              "<Figure size 432x288 with 1 Axes>"
            ]
          },
          "metadata": {
            "tags": [],
            "needs_background": "light"
          }
        }
      ]
    },
    {
      "cell_type": "markdown",
      "metadata": {
        "id": "yZKiyonejUUi"
      },
      "source": [
        "Pergunta 3 - Qual Avaliação do Ano Anterior Foi Mais Comum?\n",
        "\n",
        "\n"
      ]
    },
    {
      "cell_type": "code",
      "metadata": {
        "colab": {
          "base_uri": "https://localhost:8080/",
          "height": 364
        },
        "id": "p6aMy71Jjc4G",
        "outputId": "310a9a44-ea08-4e8e-bc82-ad196eda9da8"
      },
      "source": [
        "import matplotlib.pyplot as plt\n",
        "import seaborn as sns\n",
        "dataset['aval_ano_anterior'].value_counts().sort_values().plot.bar(color='blue',figsize=(10,5))\n",
        "# vamos chamar a coluna e usar o metodo value_counts para contar os elementos e depois sort_values para ordenar os valores e logo depois usar um gráfico de barras \n",
        "plt.title('Distribuição da avaliação do ano anaterior dos funcionários',fontsize=15)\n",
        "plt.xlabel('Avaliações',fontsize=15)\n",
        "plt.ylabel('Total',fontsize=15)\n",
        "plt.show()"
      ],
      "execution_count": 38,
      "outputs": [
        {
          "output_type": "display_data",
          "data": {
            "image/png": "[encoded data removed]",
            "text/plain": [
              "<Figure size 720x360 with 1 Axes>"
            ]
          },
          "metadata": {
            "tags": [],
            "needs_background": "light"
          }
        }
      ]
    },
    {
      "cell_type": "markdown",
      "metadata": {
        "id": "c5RkCje7lxf9"
      },
      "source": [
        "Pergunta 4 - Qual a Distribuição das Idades dos Funcionários?\n"
      ]
    },
    {
      "cell_type": "code",
      "metadata": {
        "colab": {
          "base_uri": "https://localhost:8080/",
          "height": 357
        },
        "id": "g-kLvR-ol0dz",
        "outputId": "aaddb364-5a93-4443-b92b-3372575ae4ea"
      },
      "source": [
        "import matplotlib.pyplot as plt # como a perguntas nos remete a distribuição da idade do funcionário criamos um gráfico de distribuição\n",
        "import seaborn as sns\n",
        "sns.distplot(dataset['idade'],color= 'magenta')\n",
        "plt.title('Distribuição da idade dos funcionários',fontsize=15)\n",
        "plt.xlabel('Idade',fontsize=15)\n",
        "plt.ylabel('Total')\n",
        "plt.show()\n"
      ],
      "execution_count": 40,
      "outputs": [
        {
          "output_type": "stream",
          "text": [
            "/usr/local/lib/python3.7/dist-packages/seaborn/distributions.py:2557: FutureWarning: `distplot` is a deprecated function and will be removed in a future version. Please adapt your code to use either `displot` (a figure-level function with similar flexibility) or `histplot` (an axes-level function for histograms).\n",
            "  warnings.warn(msg, FutureWarning)\n"
          ],
          "name": "stderr"
        },
        {
          "output_type": "display_data",
          "data": {
            "image/png": "[encoded data removed]",
            "text/plain": [
              "<Figure size 432x288 with 1 Axes>"
            ]
          },
          "metadata": {
            "tags": [],
            "needs_background": "light"
          }
        }
      ]
    },
    {
      "cell_type": "markdown",
      "metadata": {
        "id": "3t9kmxsvnAQu"
      },
      "source": [
        "Pergunta 5 - Qual o Número de Treinamentos Mais Frequente?\n",
        "\n"
      ]
    },
    {
      "cell_type": "code",
      "metadata": {
        "colab": {
          "base_uri": "https://localhost:8080/",
          "height": 357
        },
        "id": "9vXM9xwJnOcW",
        "outputId": "3a173509-ebff-41ba-ce77-d64b6f7ea377"
      },
      "source": [
        "import matplotlib.pyplot as plt #vamos efetuar uma avaliação de frequência dos números de treinamento\n",
        "import seaborn as sns\n",
        "sns.violinplot(dataset['numero_treinamentos'], color='red')\n",
        "plt.title('Número de treinamentos efetuados pelos funcionários', fontsize=15)\n",
        "plt.xlabel('Número de treinamentos',fontsize=15)\n",
        "plt.ylabel('frequência')\n",
        "plt.show()\n",
        "\n",
        "#podemos destacar que maioria do funcionarios só fez um treinamento, baixíssima capacitação por parte dos funcionários"
      ],
      "execution_count": 45,
      "outputs": [
        {
          "output_type": "stream",
          "text": [
            "/usr/local/lib/python3.7/dist-packages/seaborn/_decorators.py:43: FutureWarning: Pass the following variable as a keyword arg: x. From version 0.12, the only valid positional argument will be `data`, and passing other arguments without an explicit keyword will result in an error or misinterpretation.\n",
            "  FutureWarning\n"
          ],
          "name": "stderr"
        },
        {
          "output_type": "display_data",
          "data": {
            "image/png": "[encoded data removed]",
            "text/plain": [
              "<Figure size 432x288 with 1 Axes>"
            ]
          },
          "metadata": {
            "tags": [],
            "needs_background": "light"
          }
        }
      ]
    },
    {
      "cell_type": "markdown",
      "metadata": {
        "id": "xJ7caE2a45aU"
      },
      "source": [
        "Pergunta 6 - Qual a Proporção dos Funcionários Por Canal de Recrutamento?\n"
      ]
    },
    {
      "cell_type": "code",
      "metadata": {
        "colab": {
          "base_uri": "https://localhost:8080/",
          "height": 284
        },
        "id": "-FCUW1jw5Fku",
        "outputId": "0969d492-0172-46f3-a5d1-ef8e2638e0bd"
      },
      "source": [
        "import matplotlib.pyplot as plt\n",
        "import seaborn as sns\n",
        "dataset['canal_recrutamento'].value_counts()# para pegar os totais de \"Outro\",\"Outsourcing\",\"Indicação\"\n",
        "fatias=[55375,42358,2547] #colocamos o valor que cada um representa no toral\n",
        "labels=\"Outro\",\"Outsourcing\",\"Indicação\"\n",
        "colors=['purple','lime','yellow'] #para atribuirmos as cores ao gráfico\n",
        "explode=[0.01,0.01,0.01]# para afastar os pedaços das fatias\n",
        "plt.pie(fatias,labels=labels,colors=colors,explode=explode,shadow=True,autopct=\"%.2f%%\") #shadow=true é colocar uma sombra e autopct as percentagens dos valores\n",
        "plt.title('Percentual de Funcionários porcanal de recrutamento',fontsize=15)  \n",
        "plt.axis('off')\n",
        "plt.legend() #legenda do gráfico\n",
        "plt.show"
      ],
      "execution_count": 54,
      "outputs": [
        {
          "output_type": "execute_result",
          "data": {
            "text/plain": [
              "<function matplotlib.pyplot.show>"
            ]
          },
          "metadata": {
            "tags": []
          },
          "execution_count": 54
        },
        {
          "output_type": "display_data",
          "data": {
            "image/png": "[encoded data removed]",
            "text/plain": [
              "<Figure size 432x288 with 1 Axes>"
            ]
          },
          "metadata": {
            "tags": []
          }
        }
      ]
    },
    {
      "cell_type": "markdown",
      "metadata": {
        "id": "qb79LIZ19zbx"
      },
      "source": [
        "Pergunta 7 - Qual a Relação Entre a Promoção e a Avaliação do Ano Anterior?\n"
      ]
    },
    {
      "cell_type": "code",
      "metadata": {
        "colab": {
          "base_uri": "https://localhost:8080/",
          "height": 580
        },
        "id": "T0FDlIfw98Lp",
        "outputId": "c02c74cf-a7dc-49e1-c8df-45ff4a14ab59"
      },
      "source": [
        "import matplotlib.pyplot as plt\n",
        "import seaborn as sns\n",
        "data = pd.crosstab(dataset['aval_ano_anterior'], dataset['promovido']) # criação de tabela cruzada no pandas\n",
        "data.div(data.sum(1).astype(float), axis = 0).plot(kind = 'bar', #div para dividir a tabela e logo depois realiza o somatório e converte para float\n",
        "                                                   stacked = True, #logo depois valo criar um plot do tipo barra, stecked =true e para um gráfico de barras com dois valores\n",
        "                                                   figsize = (16, 9), #tamanho da figura\n",
        "                                                   color = ['blue', 'magenta'])\n",
        "plt.title('Relação Entre Avaliação do Ano Anterior e a Promoção', fontsize = 15)\n",
        "plt.xlabel('Avaliação do Ano Anterior', fontsize = 15)\n",
        "plt.legend()\n",
        "plt.show()\n",
        "\n",
        "# podemos avaliar a relação entre a promoção e avaliação do funcionário onde que em sua grande maioria os que tiveram a nota 1 não foram promovidos\n",
        "# e os que ficaram com nota 5 em grande maioria foram promovidos"
      ],
      "execution_count": 55,
      "outputs": [
        {
          "output_type": "display_data",
          "data": {
            "image/png": "[encoded data removed]",
            "text/plain": [
              "<Figure size 1152x648 with 1 Axes>"
            ]
          },
          "metadata": {
            "tags": [],
            "needs_background": "light"
          }
        }
      ]
    },
    {
      "cell_type": "markdown",
      "metadata": {
        "id": "pOOjOl5r_5-A"
      },
      "source": [
        "CréditosDSA"
      ]
    }
  ]
}